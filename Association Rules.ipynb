{
 "cells": [
  {
   "cell_type": "markdown",
   "id": "6fc1dcc9-728c-4213-aaa6-06e1b3db936b",
   "metadata": {},
   "source": [
    "## ✅ Step 1: Simulate Transaction Data\n",
    "🎯 Task:\n",
    "- Create at least 10 fake transactions.\n",
    "- Each transaction should have 2–5 items.\n",
    "- Use a pool of at least 8 unique items (e.g., Bread, Milk, Eggs, etc.)."
   ]
  },
  {
   "cell_type": "code",
   "execution_count": 25,
   "id": "f6b97424-08df-499f-bd44-fbb073a33a5a",
   "metadata": {},
   "outputs": [
    {
     "name": "stdout",
     "output_type": "stream",
     "text": [
      "Transaction 1: ['Cheese', 'Bread']\n",
      "Transaction 2: ['Cheese', 'Bread', 'Bananas', 'Butter', 'Eggs']\n",
      "Transaction 3: ['Bread', 'Milk', 'Bananas', 'Eggs']\n",
      "Transaction 4: ['Butter', 'Milk', 'Bread', 'Cereal']\n",
      "Transaction 5: ['Bananas', 'Bread']\n",
      "Transaction 6: ['Apples', 'Cereal']\n",
      "Transaction 7: ['Milk', 'Bread', 'Bananas', 'Cereal', 'Cheese']\n",
      "Transaction 8: ['Cheese', 'Butter']\n",
      "Transaction 9: ['Cheese', 'Butter', 'Bread', 'Eggs', 'Cereal']\n",
      "Transaction 10: ['Butter', 'Bananas', 'Cheese', 'Apples', 'Eggs']\n"
     ]
    }
   ],
   "source": [
    "import random\n",
    "import pandas as pd\n",
    "\n",
    "random.seed(123)\n",
    "\n",
    "# Define a pool of at least 8 unique items\n",
    "items_pool = ['Bread', 'Milk', 'Eggs', 'Butter', 'Cheese', 'Apples', 'Bananas', 'Cereal']\n",
    "\n",
    "# Simulate 10 transactions with 2–5 items each\n",
    "transactions = []\n",
    "\n",
    "for i in range(10):\n",
    "    num_items = random.randint(2, 5)\n",
    "    transaction = random.sample(items_pool, num_items)\n",
    "    transactions.append(transaction)\n",
    "\n",
    "# Display the transactions\n",
    "for idx, t in enumerate(transactions, 1):\n",
    "    print(f\"Transaction {idx}: {t}\")"
   ]
  },
  {
   "cell_type": "markdown",
   "id": "7bd631a8-b5cb-4496-85ef-ed1e6383e0bd",
   "metadata": {},
   "source": [
    "## ✅ Step 2: Analyze with Apriori (4 Marks)\n",
    "🎯 Tasks:\n",
    "- Convert the transaction data into a one-hot encoded format.\n",
    "- Use mlxtend's Apriori algorithm to find frequent itemsets.\n",
    "- Set minimum support = 0.3 (30%).\n",
    "\n",
    "Let's first install the package mlxtend."
   ]
  },
  {
   "cell_type": "code",
   "execution_count": 28,
   "id": "dab75b74-4f37-40d7-9884-0c08bf207dae",
   "metadata": {},
   "outputs": [
    {
     "name": "stdout",
     "output_type": "stream",
     "text": [
      "Requirement already satisfied: mlxtend in c:\\users\\admin\\anaconda\\lib\\site-packages (0.23.4)\n",
      "Requirement already satisfied: scipy>=1.2.1 in c:\\users\\admin\\anaconda\\lib\\site-packages (from mlxtend) (1.13.1)\n",
      "Requirement already satisfied: numpy>=1.16.2 in c:\\users\\admin\\anaconda\\lib\\site-packages (from mlxtend) (1.26.4)\n",
      "Requirement already satisfied: pandas>=0.24.2 in c:\\users\\admin\\anaconda\\lib\\site-packages (from mlxtend) (2.2.2)\n",
      "Requirement already satisfied: scikit-learn>=1.3.1 in c:\\users\\admin\\anaconda\\lib\\site-packages (from mlxtend) (1.4.2)\n",
      "Requirement already satisfied: matplotlib>=3.0.0 in c:\\users\\admin\\anaconda\\lib\\site-packages (from mlxtend) (3.8.4)\n",
      "Requirement already satisfied: joblib>=0.13.2 in c:\\users\\admin\\anaconda\\lib\\site-packages (from mlxtend) (1.4.2)\n",
      "Requirement already satisfied: contourpy>=1.0.1 in c:\\users\\admin\\anaconda\\lib\\site-packages (from matplotlib>=3.0.0->mlxtend) (1.2.0)\n",
      "Requirement already satisfied: cycler>=0.10 in c:\\users\\admin\\anaconda\\lib\\site-packages (from matplotlib>=3.0.0->mlxtend) (0.11.0)\n",
      "Requirement already satisfied: fonttools>=4.22.0 in c:\\users\\admin\\anaconda\\lib\\site-packages (from matplotlib>=3.0.0->mlxtend) (4.51.0)\n",
      "Requirement already satisfied: kiwisolver>=1.3.1 in c:\\users\\admin\\anaconda\\lib\\site-packages (from matplotlib>=3.0.0->mlxtend) (1.4.4)\n",
      "Requirement already satisfied: packaging>=20.0 in c:\\users\\admin\\anaconda\\lib\\site-packages (from matplotlib>=3.0.0->mlxtend) (23.2)\n",
      "Requirement already satisfied: pillow>=8 in c:\\users\\admin\\anaconda\\lib\\site-packages (from matplotlib>=3.0.0->mlxtend) (10.3.0)\n",
      "Requirement already satisfied: pyparsing>=2.3.1 in c:\\users\\admin\\anaconda\\lib\\site-packages (from matplotlib>=3.0.0->mlxtend) (3.0.9)\n",
      "Requirement already satisfied: python-dateutil>=2.7 in c:\\users\\admin\\anaconda\\lib\\site-packages (from matplotlib>=3.0.0->mlxtend) (2.9.0.post0)\n",
      "Requirement already satisfied: pytz>=2020.1 in c:\\users\\admin\\anaconda\\lib\\site-packages (from pandas>=0.24.2->mlxtend) (2024.1)\n",
      "Requirement already satisfied: tzdata>=2022.7 in c:\\users\\admin\\anaconda\\lib\\site-packages (from pandas>=0.24.2->mlxtend) (2023.3)\n",
      "Requirement already satisfied: threadpoolctl>=2.0.0 in c:\\users\\admin\\anaconda\\lib\\site-packages (from scikit-learn>=1.3.1->mlxtend) (2.2.0)\n",
      "Requirement already satisfied: six>=1.5 in c:\\users\\admin\\anaconda\\lib\\site-packages (from python-dateutil>=2.7->matplotlib>=3.0.0->mlxtend) (1.16.0)\n"
     ]
    }
   ],
   "source": [
    "!pip install mlxtend"
   ]
  },
  {
   "cell_type": "code",
   "execution_count": 29,
   "id": "247082dd-5407-4ba3-bcc0-165100782282",
   "metadata": {},
   "outputs": [
    {
     "name": "stdout",
     "output_type": "stream",
     "text": [
      "One-hot encoded transaction data:\n",
      "   Apples  Bananas  Bread  Butter  Cereal  Cheese   Eggs   Milk\n",
      "0   False    False   True   False   False    True  False  False\n",
      "1   False     True   True    True   False    True   True  False\n",
      "2   False     True   True   False   False   False   True   True\n",
      "3   False    False   True    True    True   False  False   True\n",
      "4   False     True   True   False   False   False  False  False\n",
      "5    True    False  False   False    True   False  False  False\n",
      "6   False     True   True   False    True    True  False   True\n",
      "7   False    False  False    True   False    True  False  False\n",
      "8   False    False   True    True    True    True   True  False\n",
      "9    True     True  False    True   False    True   True  False\n",
      "\n",
      "Frequent Itemsets (support >= 30%):\n",
      "    support                itemsets\n",
      "0       0.5               (Bananas)\n",
      "1       0.7                 (Bread)\n",
      "2       0.5                (Butter)\n",
      "3       0.4                (Cereal)\n",
      "4       0.6                (Cheese)\n",
      "5       0.4                  (Eggs)\n",
      "6       0.3                  (Milk)\n",
      "7       0.4        (Bananas, Bread)\n",
      "8       0.3       (Cheese, Bananas)\n",
      "9       0.3         (Bananas, Eggs)\n",
      "10      0.3         (Bread, Butter)\n",
      "11      0.3         (Bread, Cereal)\n",
      "12      0.4         (Cheese, Bread)\n",
      "13      0.3           (Eggs, Bread)\n",
      "14      0.3           (Milk, Bread)\n",
      "15      0.4        (Cheese, Butter)\n",
      "16      0.3          (Eggs, Butter)\n",
      "17      0.3          (Cheese, Eggs)\n",
      "18      0.3  (Cheese, Butter, Eggs)\n"
     ]
    }
   ],
   "source": [
    "from mlxtend.preprocessing import TransactionEncoder\n",
    "from mlxtend.frequent_patterns import apriori\n",
    "\n",
    "# Use TransactionEncoder to convert list of transactions to one-hot encoded DataFrame\n",
    "te = TransactionEncoder()\n",
    "te_array = te.fit(transactions).transform(transactions)\n",
    "df = pd.DataFrame(te_array, columns=te.columns_)\n",
    "\n",
    "# Display one-hot encoded DataFrame\n",
    "print(\"One-hot encoded transaction data:\")\n",
    "print(df)\n",
    "\n",
    "# Apply Apriori algorithm\n",
    "frequent_itemsets = apriori(df, min_support=0.3, use_colnames=True)\n",
    "\n",
    "# Display frequent itemsets\n",
    "print(\"\\nFrequent Itemsets (support >= 30%):\")\n",
    "print(frequent_itemsets)"
   ]
  },
  {
   "cell_type": "markdown",
   "id": "26567448-e7ee-4745-aeb5-86b50e182c40",
   "metadata": {},
   "source": [
    "## ✅ Step 3: Generate Association Rules (3 Marks)\n",
    "🎯 Tasks:\n",
    "- Generate association rules from the frequent itemsets.\n",
    "\n",
    "  - Use:\n",
    "\n",
    "     - Metric: Confidence\n",
    "\n",
    "     - Minimum threshold: 0.7 (70%)\n",
    "\n",
    "- Show at least 2 rules.\n",
    "\n",
    "- Briefly explain one rule in everyday language."
   ]
  },
  {
   "cell_type": "code",
   "execution_count": 33,
   "id": "32bedbcf-c582-44ce-93f4-43fb3bcf6deb",
   "metadata": {},
   "outputs": [
    {
     "name": "stdout",
     "output_type": "stream",
     "text": [
      "Association Rules (confidence ≥ 70%):\n",
      "         antecedents       consequents  support  confidence      lift\n",
      "0          (Bananas)           (Bread)      0.4        0.80  1.142857\n",
      "1             (Eggs)         (Bananas)      0.3        0.75  1.500000\n",
      "2           (Cereal)           (Bread)      0.3        0.75  1.071429\n",
      "3             (Eggs)           (Bread)      0.3        0.75  1.071429\n",
      "4             (Milk)           (Bread)      0.3        1.00  1.428571\n",
      "5           (Butter)          (Cheese)      0.4        0.80  1.333333\n",
      "6             (Eggs)          (Butter)      0.3        0.75  1.500000\n",
      "7             (Eggs)          (Cheese)      0.3        0.75  1.250000\n",
      "8   (Cheese, Butter)            (Eggs)      0.3        0.75  1.875000\n",
      "9     (Cheese, Eggs)          (Butter)      0.3        1.00  2.000000\n",
      "10    (Eggs, Butter)          (Cheese)      0.3        1.00  1.666667\n",
      "11            (Eggs)  (Cheese, Butter)      0.3        0.75  1.875000\n",
      "\n",
      "Top 2 Rules:\n",
      "  antecedents consequents  confidence\n",
      "0   (Bananas)     (Bread)        0.80\n",
      "1      (Eggs)   (Bananas)        0.75\n"
     ]
    }
   ],
   "source": [
    "from mlxtend.frequent_patterns import association_rules\n",
    "\n",
    "# Generate association rules using confidence metric\n",
    "rules = association_rules(frequent_itemsets, metric=\"confidence\", min_threshold=0.7)\n",
    "\n",
    "# Display rules\n",
    "print(\"Association Rules (confidence ≥ 70%):\")\n",
    "print(rules[['antecedents', 'consequents', 'support', 'confidence', 'lift']])\n",
    "\n",
    "# Show at least 2 rules\n",
    "print(\"\\nTop 2 Rules:\")\n",
    "print(rules[['antecedents', 'consequents', 'confidence']].head(2))"
   ]
  },
  {
   "cell_type": "markdown",
   "id": "a4236958-9ce2-4a62-84ee-1b76d5aef32e",
   "metadata": {},
   "source": [
    "🔍 Rule 1:\n",
    "If a customer buys Bananas, they are 80% likely to also buy Bread.\n",
    "\n",
    "Clear Explanation in Everyday Language:\n",
    "\"Most customers who buy Bananas also pick up Bread. In fact, 8 out of 10 times, when someone buys Bananas, they also buy Bread. So, if someone is shopping and puts Bananas in their cart, there's a strong chance they'll also want Bread.\"\n",
    "\n",
    "🔍 Rule 2 (optional explanation):\n",
    "If a customer buys Eggs, they are 75% likely to also buy Bananas.\n",
    "\n",
    "Simple Explanation:\n",
    "\"People who buy Eggs often also buy Bananas—around 3 out of 4 times. So Eggs and Bananas are frequently bought together.\""
   ]
  }
 ],
 "metadata": {
  "kernelspec": {
   "display_name": "Python 3 (ipykernel)",
   "language": "python",
   "name": "python3"
  },
  "language_info": {
   "codemirror_mode": {
    "name": "ipython",
    "version": 3
   },
   "file_extension": ".py",
   "mimetype": "text/x-python",
   "name": "python",
   "nbconvert_exporter": "python",
   "pygments_lexer": "ipython3",
   "version": "3.12.4"
  }
 },
 "nbformat": 4,
 "nbformat_minor": 5
}
